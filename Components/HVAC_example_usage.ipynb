{
 "cells": [
  {
   "cell_type": "code",
   "execution_count": null,
   "id": "25585954-ded3-41df-a19b-ab8d9a64b82f",
   "metadata": {},
   "outputs": [],
   "source": [
    "import en_hvac_ner\n",
    "import spacy\n",
    "import json"
   ]
  },
  {
   "cell_type": "code",
   "execution_count": null,
   "id": "a8fe8b1a-2411-4f36-a00e-e06579197bc6",
   "metadata": {},
   "outputs": [],
   "source": [
    "#load the NER model to parse HVAC data"
   ]
  },
  {
   "cell_type": "code",
   "execution_count": null,
   "id": "e09ec452-3380-457b-8fca-fcc2fd9af7f0",
   "metadata": {},
   "outputs": [],
   "source": [
    "nlp_ner = spacy.load('en_hvac_ner')"
   ]
  },
  {
   "cell_type": "code",
   "execution_count": null,
   "id": "559ca1d4e11c7e13",
   "metadata": {
    "collapsed": false
   },
   "outputs": [],
   "source": [
    "# Custom tokenizer\n",
    "from spacy.util import compile_prefix_regex, compile_infix_regex\n",
    "\n",
    "# Define custom infixes\n",
    "# Dash preceded by a space and followed by a digit\n",
    "# Comma preceded by a letter and followed by a digit\n",
    "custom_infixes = [r'(?<=\\s)-(?=\\d)', r'(?<=[a-zA-Z]),(?=\\d)']\n",
    "default_infixes = list(nlp_ner.Defaults.infixes)\n",
    "all_infixes = custom_infixes + default_infixes\n",
    "\n",
    "# Define custom prefixes - to capture standalone dash before a digit\n",
    "custom_prefixes = [r'-']\n",
    "default_prefixes = list(nlp_ner.Defaults.prefixes)\n",
    "all_prefixes = custom_prefixes + default_prefixes\n",
    "\n",
    "# Compile new regex rules\n",
    "prefix_regex = compile_prefix_regex(all_prefixes)\n",
    "infix_regex = compile_infix_regex(all_infixes)\n",
    "\n",
    "# Update the tokenizer with new rules\n",
    "nlp_ner.tokenizer.prefix_search = prefix_regex.search\n",
    "nlp_ner.tokenizer.infix_finditer = infix_regex.finditer"
   ]
  },
  {
   "cell_type": "code",
   "outputs": [],
   "source": [
    "properties = set()\n",
    "\n",
    "#define function to format the output as json\n",
    "def json_output(doc):\n",
    "    # Process the 'doc' and extract the desired information in JSON format\n",
    "    \n",
    "    entity_dict = {}\n",
    "    entities = [(ent.text, ent.label_) for ent in doc.ents]\n",
    "    \n",
    "    if entities:\n",
    "        for text, label in entities:\n",
    "            entity_dict[label] = text\n",
    "            properties.add(label)\n",
    "    return entity_dict\n",
    "    # output_data = json.dumps(entity_dict, indent=4)\n",
    "    # return output_data\n"
   ],
   "metadata": {},
   "id": "7be59ccb-897b-400b-9a24-35d45a976f7b",
   "execution_count": null
  },
  {
   "cell_type": "code",
   "outputs": [],
   "source": [
    "from NER.Components.disaggregate_units import disaggregate_units\n",
    "\n",
    "# Open and convert the HVAC data to JSON\n",
    "with open(\"hvac-unique.txt\", \"r\", encoding=\"utf-8\") as file:\n",
    "    lines = file.readlines()\n",
    "\n",
    "# Process each line with the NER model\n",
    "results = {}\n",
    "untagged_results = []\n",
    "for line in lines:\n",
    "    line = line.strip()  # Remove leading/trailing whitespace\n",
    "    doc = nlp_ner(line)\n",
    "    result = json_output(doc)\n",
    "    if bool(result):\n",
    "        results[line] = disaggregate_units(result)\n",
    "    else:\n",
    "        untagged_results.append(line)\n",
    "\n",
    "with open(\"hvac-results.json\", \"w\", encoding=\"utf-8\") as file:\n",
    "    json.dump(results, file, ensure_ascii=False, indent=2)"
   ],
   "metadata": {},
   "id": "8cafeb0d-a983-48df-82e4-03934a69778c",
   "execution_count": null
  },
  {
   "cell_type": "code",
   "execution_count": null,
   "outputs": [],
   "source": [
    "sorted_properties = list(properties)\n",
    "sorted_properties.sort()\n",
    "print(sorted_properties)"
   ],
   "metadata": {
    "collapsed": false
   },
   "id": "77edcdbc47a68e76"
  }
 ],
 "metadata": {
  "kernelspec": {
   "display_name": "Python 3 (ipykernel)",
   "language": "python",
   "name": "python3"
  },
  "language_info": {
   "codemirror_mode": {
    "name": "ipython",
    "version": 3
   },
   "file_extension": ".py",
   "mimetype": "text/x-python",
   "name": "python",
   "nbconvert_exporter": "python",
   "pygments_lexer": "ipython3",
   "version": "3.10.5"
  }
 },
 "nbformat": 4,
 "nbformat_minor": 5
}
