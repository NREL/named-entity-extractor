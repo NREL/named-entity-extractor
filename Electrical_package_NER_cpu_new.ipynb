{
 "cells": [
  {
   "cell_type": "code",
   "execution_count": 1,
   "metadata": {
    "colab": {
     "base_uri": "https://localhost:8080/"
    },
    "id": "xbqXeONNUsAQ",
    "outputId": "387df46a-01aa-4b9c-d749-08280678ffd0"
   },
   "outputs": [],
   "source": [
    "#! pip install -U spacy -q "
   ]
  },
  {
   "cell_type": "code",
   "execution_count": 2,
   "metadata": {},
   "outputs": [],
   "source": [
    "#!python -m spacy download en_core_web_lg"
   ]
  },
  {
   "cell_type": "code",
   "execution_count": 3,
   "metadata": {
    "colab": {
     "base_uri": "https://localhost:8080/"
    },
    "id": "B8hvZt0qUvfA",
    "outputId": "dfb808c0-d52a-4f7b-8bf9-287ea2a383d2"
   },
   "outputs": [
    {
     "name": "stdout",
     "output_type": "stream",
     "text": [
      "\u001b[1m\n",
      "============================== Info about spaCy ==============================\u001b[0m\n",
      "\n",
      "spaCy version    3.7.2                         \n",
      "Location         C:\\Python310\\lib\\site-packages\\spacy\n",
      "Platform         Windows-10-10.0.19045-SP0     \n",
      "Python version   3.10.10                       \n",
      "Pipelines        en_core_web_lg (3.7.0), en_core_web_sm (3.7.0), en_core_web_trf (3.7.2)\n",
      "\n"
     ]
    }
   ],
   "source": [
    "!python -m spacy info"
   ]
  },
  {
   "cell_type": "code",
   "execution_count": 4,
   "metadata": {
    "id": "CYc4PoUJZgVI"
   },
   "outputs": [],
   "source": [
    "import spacy\n",
    "from spacy.tokens import DocBin\n",
    "from tqdm import tqdm"
   ]
  },
  {
   "cell_type": "code",
   "execution_count": 5,
   "metadata": {
    "id": "ypmHuPYBZ7C0"
   },
   "outputs": [],
   "source": [
    "import json\n",
    "import os"
   ]
  },
  {
   "cell_type": "code",
   "execution_count": 6,
   "metadata": {
    "id": "8zljPkppcy_w"
   },
   "outputs": [],
   "source": [
    "nlp_ner = spacy.load(\"Components/05Electrical/cpu_acc_new/model-best\") "
   ]
  },
  {
   "cell_type": "code",
   "execution_count": 7,
   "metadata": {},
   "outputs": [
    {
     "name": "stdout",
     "output_type": "stream",
     "text": [
      "Updated meta.json with new version, author, and email.\n"
     ]
    }
   ],
   "source": [
    "# Define the path to the meta.json file\n",
    "meta_json_path = 'Components/05Electrical/cpu_acc_new/model-best/meta.json'\n",
    "\n",
    "# Load the existing meta.json data\n",
    "with open(meta_json_path, 'r', encoding='utf-8') as json_file:\n",
    "    meta_data = json.load(json_file)\n",
    "\n",
    "# Update the version, author, and email fields\n",
    "meta_data['name'] = 'electrical_ner'  # Update with your desired version\n",
    "meta_data['version'] = '1.0.0'  # Update with your desired version\n",
    "meta_data['author'] = 'Brian L Ball'  # Update with your desired author\n",
    "meta_data['email'] = 'Brian.Ball@nrel.gov'  # Update with your desired email\n",
    "\n",
    "# Save the updated meta.json data back to the file\n",
    "with open(meta_json_path, 'w', encoding='utf-8') as json_file:\n",
    "    json.dump(meta_data, json_file, ensure_ascii=False, indent=4)\n",
    "\n",
    "print('Updated meta.json with new version, author, and email.')\n"
   ]
  },
  {
   "cell_type": "code",
   "execution_count": 8,
   "metadata": {},
   "outputs": [],
   "source": [
    "if not os.path.exists('Components/05Electrical/package_new'):\n",
    "    os.makedirs('Components/05Electrical/package_new')"
   ]
  },
  {
   "cell_type": "code",
   "execution_count": 9,
   "metadata": {},
   "outputs": [
    {
     "name": "stdout",
     "output_type": "stream",
     "text": [
      "running sdist\n",
      "running egg_info\n",
      "creating en_electrical_ner.egg-info\n",
      "writing en_electrical_ner.egg-info\\PKG-INFO\n",
      "writing dependency_links to en_electrical_ner.egg-info\\dependency_links.txt\n",
      "writing entry points to en_electrical_ner.egg-info\\entry_points.txt\n",
      "writing requirements to en_electrical_ner.egg-info\\requires.txt\n",
      "writing top-level names to en_electrical_ner.egg-info\\top_level.txt\n",
      "writing manifest file 'en_electrical_ner.egg-info\\SOURCES.txt'\n",
      "reading manifest file 'en_electrical_ner.egg-info\\SOURCES.txt'\n",
      "reading manifest template 'MANIFEST.in'\n",
      "writing manifest file 'en_electrical_ner.egg-info\\SOURCES.txt'\n",
      "running check\n",
      "creating en_electrical_ner-1.0.0\n",
      "creating en_electrical_ner-1.0.0\\en_electrical_ner\n",
      "creating en_electrical_ner-1.0.0\\en_electrical_ner.egg-info\n",
      "creating en_electrical_ner-1.0.0\\en_electrical_ner\\en_electrical_ner-1.0.0\n",
      "creating en_electrical_ner-1.0.0\\en_electrical_ner\\en_electrical_ner-1.0.0\\ner\n",
      "creating en_electrical_ner-1.0.0\\en_electrical_ner\\en_electrical_ner-1.0.0\\tok2vec\n",
      "creating en_electrical_ner-1.0.0\\en_electrical_ner\\en_electrical_ner-1.0.0\\vocab\n",
      "copying files to en_electrical_ner-1.0.0...\n",
      "copying MANIFEST.in -> en_electrical_ner-1.0.0\n",
      "copying README.md -> en_electrical_ner-1.0.0\n",
      "copying meta.json -> en_electrical_ner-1.0.0\n",
      "copying setup.py -> en_electrical_ner-1.0.0\n",
      "copying en_electrical_ner\\__init__.py -> en_electrical_ner-1.0.0\\en_electrical_ner\n",
      "copying en_electrical_ner\\meta.json -> en_electrical_ner-1.0.0\\en_electrical_ner\n",
      "copying en_electrical_ner.egg-info\\PKG-INFO -> en_electrical_ner-1.0.0\\en_electrical_ner.egg-info\n",
      "copying en_electrical_ner.egg-info\\SOURCES.txt -> en_electrical_ner-1.0.0\\en_electrical_ner.egg-info\n",
      "copying en_electrical_ner.egg-info\\dependency_links.txt -> en_electrical_ner-1.0.0\\en_electrical_ner.egg-info\n",
      "copying en_electrical_ner.egg-info\\entry_points.txt -> en_electrical_ner-1.0.0\\en_electrical_ner.egg-info\n",
      "copying en_electrical_ner.egg-info\\not-zip-safe -> en_electrical_ner-1.0.0\\en_electrical_ner.egg-info\n",
      "copying en_electrical_ner.egg-info\\requires.txt -> en_electrical_ner-1.0.0\\en_electrical_ner.egg-info\n",
      "copying en_electrical_ner.egg-info\\top_level.txt -> en_electrical_ner-1.0.0\\en_electrical_ner.egg-info\n",
      "copying en_electrical_ner\\en_electrical_ner-1.0.0\\README.md -> en_electrical_ner-1.0.0\\en_electrical_ner\\en_electrical_ner-1.0.0\n",
      "copying en_electrical_ner\\en_electrical_ner-1.0.0\\config.cfg -> en_electrical_ner-1.0.0\\en_electrical_ner\\en_electrical_ner-1.0.0\n",
      "copying en_electrical_ner\\en_electrical_ner-1.0.0\\meta.json -> en_electrical_ner-1.0.0\\en_electrical_ner\\en_electrical_ner-1.0.0\n",
      "copying en_electrical_ner\\en_electrical_ner-1.0.0\\tokenizer -> en_electrical_ner-1.0.0\\en_electrical_ner\\en_electrical_ner-1.0.0\n",
      "copying en_electrical_ner\\en_electrical_ner-1.0.0\\ner\\cfg -> en_electrical_ner-1.0.0\\en_electrical_ner\\en_electrical_ner-1.0.0\\ner\n",
      "copying en_electrical_ner\\en_electrical_ner-1.0.0\\ner\\model -> en_electrical_ner-1.0.0\\en_electrical_ner\\en_electrical_ner-1.0.0\\ner\n",
      "copying en_electrical_ner\\en_electrical_ner-1.0.0\\ner\\moves -> en_electrical_ner-1.0.0\\en_electrical_ner\\en_electrical_ner-1.0.0\\ner\n",
      "copying en_electrical_ner\\en_electrical_ner-1.0.0\\tok2vec\\cfg -> en_electrical_ner-1.0.0\\en_electrical_ner\\en_electrical_ner-1.0.0\\tok2vec\n",
      "copying en_electrical_ner\\en_electrical_ner-1.0.0\\tok2vec\\model -> en_electrical_ner-1.0.0\\en_electrical_ner\\en_electrical_ner-1.0.0\\tok2vec\n",
      "copying en_electrical_ner\\en_electrical_ner-1.0.0\\vocab\\key2row -> en_electrical_ner-1.0.0\\en_electrical_ner\\en_electrical_ner-1.0.0\\vocab\n",
      "copying en_electrical_ner\\en_electrical_ner-1.0.0\\vocab\\lookups.bin -> en_electrical_ner-1.0.0\\en_electrical_ner\\en_electrical_ner-1.0.0\\vocab\n",
      "copying en_electrical_ner\\en_electrical_ner-1.0.0\\vocab\\strings.json -> en_electrical_ner-1.0.0\\en_electrical_ner\\en_electrical_ner-1.0.0\\vocab\n",
      "copying en_electrical_ner\\en_electrical_ner-1.0.0\\vocab\\vectors -> en_electrical_ner-1.0.0\\en_electrical_ner\\en_electrical_ner-1.0.0\\vocab\n",
      "copying en_electrical_ner\\en_electrical_ner-1.0.0\\vocab\\vectors.cfg -> en_electrical_ner-1.0.0\\en_electrical_ner\\en_electrical_ner-1.0.0\\vocab\n",
      "Writing en_electrical_ner-1.0.0\\setup.cfg\n",
      "creating dist\n",
      "Creating tar archive\n",
      "removing 'en_electrical_ner-1.0.0' (and everything under it)\n",
      "\u001b[38;5;4m[i] Building package artifacts: sdist\u001b[0m\n",
      "\u001b[38;5;2m[+] Loaded meta.json from file\u001b[0m\n",
      "Components\\05Electrical\\cpu_acc_new\\model-best\\meta.json\n",
      "\u001b[38;5;2m[+] Generated README.md from meta.json\u001b[0m\n",
      "\u001b[38;5;2m[+] Successfully created package directory\n",
      "'en_electrical_ner-1.0.0'\u001b[0m\n",
      "Components\\05Electrical\\package_new\\en_electrical_ner-1.0.0\n",
      "\u001b[38;5;2m[+] Successfully created zipped Python package\u001b[0m\n",
      "Components\\05Electrical\\package_new\\en_electrical_ner-1.0.0\\dist\\en_electrical_ner-1.0.0.tar.gz\n"
     ]
    },
    {
     "name": "stderr",
     "output_type": "stream",
     "text": [
      "warning: no files found matching 'LICENSE'\n",
      "warning: no files found matching 'LICENSES_SOURCES'\n"
     ]
    }
   ],
   "source": [
    "!python -m spacy package Components/05Electrical/cpu_acc_new/model-best Components/05Electrical/package_new"
   ]
  }
 ],
 "metadata": {
  "colab": {
   "name": "Custom NER with Spacy3",
   "provenance": []
  },
  "kernelspec": {
   "display_name": "Python 3 (ipykernel)",
   "language": "python",
   "name": "python3"
  },
  "language_info": {
   "codemirror_mode": {
    "name": "ipython",
    "version": 3
   },
   "file_extension": ".py",
   "mimetype": "text/x-python",
   "name": "python",
   "nbconvert_exporter": "python",
   "pygments_lexer": "ipython3",
   "version": "3.10.10"
  }
 },
 "nbformat": 4,
 "nbformat_minor": 4
}
